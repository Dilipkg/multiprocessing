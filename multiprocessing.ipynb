{
 "cells": [
  {
   "cell_type": "markdown",
   "id": "55bdf03c-e795-4c99-809f-9cf37d57da0a",
   "metadata": {},
   "source": [
    "Q1.\n",
    "multiprocessing in python is a built-in package that allows the system to run multiple processes sumultaneously .it will enable the breaking of application into smaller threads that can run independently.\n",
    "Multiprocessing is useful for CPU-bound processes, such as computationally heavy tasks since it will benefit from having multiple processors."
   ]
  },
  {
   "cell_type": "markdown",
   "id": "12de73d9-ba59-4062-981f-6243963bb210",
   "metadata": {},
   "source": [
    "Q2.\n",
    "Multiprocessing uses two or more CPUs to increase computing power, where as multithreading uses a single process with multiple code segments to increase computing power.\n"
   ]
  },
  {
   "cell_type": "markdown",
   "id": "0d336de1-31a5-4c62-ae22-2fe9c551e9d9",
   "metadata": {},
   "source": [
    "Q3.\n",
    "import multiprocessing\n",
    "import time\n",
    "def process_function (number):\n",
    "    print(f\"Child process {number} is running...\")\n",
    "    time.sleep(3)\n",
    "    print(f\"child process {number} is done.\")\n",
    "if __name__ ==\"__main__\":\n",
    "    process=multiprocessing.Process(target=process_function,args=(1,))\n",
    "    process.start()\n",
    "    process.join()\n",
    "    print(\"Main process is running..\")\n",
    "    "
   ]
  },
  {
   "cell_type": "markdown",
   "id": "e4fa264c-3507-44e6-be52-7c98dcba45eb",
   "metadata": {},
   "source": [
    "Q4.\n",
    "In Python, a multiprocessing pool is a feature provided by the multiprocessing module that allows you to parallelize the execution of a function across multiple processes. It creates a pool of worker processes that can execute tasks concurrently, distributing the workload among them."
   ]
  },
  {
   "cell_type": "markdown",
   "id": "3504dd63-649c-4476-98c9-9d524689db91",
   "metadata": {},
   "source": [
    "#Q5.\n",
    "import multiprocessing\n",
    "def process(data):\n",
    "    return data*2\n",
    "if  __name__==\"__main__\":\n",
    "    pool=multiprocessing.Pool(processes=3)\n",
    "    data_to_process=[1,2,3,4,5,6,7,8,9]\n",
    "    results=pool.map(process,data_to_process)\n",
    "    pool.close()\n",
    "    pool.join()\n",
    "    print(results)"
   ]
  },
  {
   "cell_type": "markdown",
   "id": "180abb82-e19b-46d6-99fc-7508021b9b24",
   "metadata": {},
   "source": [
    "#Q6.\n",
    "import multiprocessing\n",
    "def print_num(number):\n",
    "    print(f\"process{number}: my number is {number}\")\n",
    "if __name__==\"__main__\":\n",
    "    processes=[]\n",
    "    for i in range(4):\n",
    "        process=multiprocessing.Process(target=print_num,args=(i,))\n",
    "        processes.append(process)\n",
    "    for process in processes:\n",
    "        process.start()\n",
    "    for process in processes:\n",
    "        process.join()\n",
    "    print(\"All processes have finished.\")"
   ]
  },
  {
   "cell_type": "code",
   "execution_count": null,
   "id": "4c96a151-25d7-491e-901c-b0fb2c031130",
   "metadata": {},
   "outputs": [],
   "source": []
  }
 ],
 "metadata": {
  "kernelspec": {
   "display_name": "Python 3 (ipykernel)",
   "language": "python",
   "name": "python3"
  },
  "language_info": {
   "codemirror_mode": {
    "name": "ipython",
    "version": 3
   },
   "file_extension": ".py",
   "mimetype": "text/x-python",
   "name": "python",
   "nbconvert_exporter": "python",
   "pygments_lexer": "ipython3",
   "version": "3.10.8"
  }
 },
 "nbformat": 4,
 "nbformat_minor": 5
}
